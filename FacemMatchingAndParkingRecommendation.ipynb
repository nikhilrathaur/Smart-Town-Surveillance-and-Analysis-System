{
  "nbformat": 4,
  "nbformat_minor": 0,
  "metadata": {
    "colab": {
      "name": "Face.ipynb",
      "provenance": [],
      "collapsed_sections": []
    },
    "kernelspec": {
      "name": "python3",
      "display_name": "Python 3"
    },
    "accelerator": "GPU"
  },
  "cells": [
    {
      "cell_type": "code",
      "metadata": {
        "id": "4ma87OBZxKTw",
        "colab_type": "code",
        "colab": {}
      },
      "source": [
        "!pip install face_recognition"
      ],
      "execution_count": 0,
      "outputs": []
    },
    {
      "cell_type": "code",
      "metadata": {
        "id": "GMQZd81AraVB",
        "colab_type": "code",
        "colab": {
          "base_uri": "https://localhost:8080/",
          "height": 34
        },
        "outputId": "c8d7422f-5f52-42ba-fb7d-f1e6a34b55d1"
      },
      "source": [
        "from PIL import Image, ImageDraw\n",
        "from IPython.display import display\n",
        "\n",
        "\n",
        "#pil_im = Image.open('/content/WIN_20200303_02_17_36_Pro.jpg')\n",
        "#display(pil_im)\n",
        "\n",
        "import face_recognition\n",
        "import numpy as np\n",
        "from PIL import Image, ImageDraw\n",
        "from IPython.display import display\n",
        "\n",
        "\n",
        "\n",
        "\n",
        "nikhil_image = face_recognition.load_image_file(\"/content/inp/WIN_20200303_02_08_34_Pro.jpg\")\n",
        "nikhil_face_encoding = face_recognition.face_encodings(obama_image)[0]\n",
        "\n",
        "\n",
        "subham_image = face_recognition.load_image_file(\"/content/inp/WIN_20200303_02_17_29_Pro.jpg\")\n",
        "subham_face_encoding = face_recognition.face_encodings(biden_image)[0]\n",
        "\n",
        "shubham_image = face_recognition.load_image_file(\"/content/inp/WIN_20200305_04_08_50_Pro.jpg\")\n",
        "shubham_face_encoding = face_recognition.face_encodings(third_image)[0]\n",
        "\n",
        "\n",
        "known_face_encodings = [\n",
        "    nikhil_face_encoding,\n",
        "    subham_face_encoding,\n",
        "    shubham_face_encoding\n",
        "]\n",
        "known_face_names = [\n",
        "    \"Nikhil Singh Rathaur\",\n",
        "    \"Subham Gupta\",\n",
        "    \"Shubham\"\n",
        "]\n",
        "print('Learned encoding for', len(known_face_encodings), 'images.')\n",
        "\n"
      ],
      "execution_count": 76,
      "outputs": [
        {
          "output_type": "stream",
          "text": [
            "Learned encoding for 3 images.\n"
          ],
          "name": "stdout"
        }
      ]
    },
    {
      "cell_type": "code",
      "metadata": {
        "id": "OHYN92Pabnve",
        "colab_type": "code",
        "colab": {}
      },
      "source": [
        "import math\n",
        "count = 0\n",
        "videoFile = \"/content/20200305_030427.mp4\"\n",
        "cap = cv2.VideoCapture(videoFile)   # capturing the video from the given path\n",
        "frameRate = cap.get(5) #frame rate\n",
        "x=1\n",
        "while(cap.isOpened()):\n",
        "    frameId = cap.get(1) #current frame number\n",
        "    ret, frame = cap.read()\n",
        "    if (ret != True):\n",
        "        break\n",
        "    if (frameId % math.floor(frameRate) == 0):\n",
        "        filename =\"frame%d.jpg\" % count;count+=1\n",
        "        cv2.imwrite(filename, frame)\n",
        "cap.release()\n",
        "print (\"Done!\")"
      ],
      "execution_count": 0,
      "outputs": []
    },
    {
      "cell_type": "code",
      "metadata": {
        "id": "kMo6qFqB4-TY",
        "colab_type": "code",
        "colab": {}
      },
      "source": [
        "import os\n",
        "for file in os.listdir(\"/content\"):\n",
        "    if file.endswith(\".jpg\"):\n",
        "        f = str(os.path.join(\"/content\", file))\n",
        "        unknown_image = face_recognition.load_image_file(f)\n",
        "\n",
        "\n",
        "        face_locations = face_recognition.face_locations(unknown_image)\n",
        "        face_encodings = face_recognition.face_encodings(unknown_image, face_locations)\n",
        "\n",
        "\n",
        "        pil_image = Image.fromarray(unknown_image)\n",
        "\n",
        "        draw = ImageDraw.Draw(pil_image)\n",
        "\n",
        "\n",
        "        for (top, right, bottom, left), face_encoding in zip(face_locations, face_encodings):\n",
        "            \n",
        "            matches = face_recognition.compare_faces(known_face_encodings, face_encoding)\n",
        "\n",
        "            name = \"Unknown\"\n",
        "\n",
        "            \n",
        "            face_distances = face_recognition.face_distance(known_face_encodings, face_encoding)\n",
        "            best_match_index = np.argmin(face_distances)\n",
        "            if matches[best_match_index]:\n",
        "                name = known_face_names[best_match_index]\n",
        "\n",
        "            \n",
        "            draw.rectangle(((left, top), (right, bottom)), outline=(0, 0, 255))\n",
        "\n",
        "            \n",
        "            text_width, text_height = draw.textsize(name)\n",
        "            draw.rectangle(((left, bottom - text_height - 10), (right, bottom)), fill=(0, 0, 255), outline=(0, 0, 255))\n",
        "            draw.text((left + 6, bottom - text_height - 5), name, fill=(255, 255, 255, 255))\n",
        "\n",
        "\n",
        "\n",
        "        del draw\n",
        "\n",
        "\n",
        "        pil_image = pil_image.save(f)\n",
        "\n"
      ],
      "execution_count": 0,
      "outputs": []
    },
    {
      "cell_type": "code",
      "metadata": {
        "id": "BOLS_7k8C0Jr",
        "colab_type": "code",
        "colab": {}
      },
      "source": [
        "import cv2\n",
        "import numpy as np\n",
        "import os\n",
        "from os.path import isfile, join\n",
        "pathIn= '/content/'\n",
        "pathOut = 'video.avi'\n",
        "fps = 2\n",
        "frame_array = []\n",
        "files = [f for f in os.listdir(pathIn) if isfile(join(pathIn, f))]\n",
        "#for sorting the file names properly\n",
        "files.sort(key = lambda x: x[5:-4])\n",
        "files.sort()\n",
        "frame_array = []\n",
        "files = [f for f in os.listdir(pathIn) if isfile(join(pathIn, f))]\n",
        "#for sorting the file names properly\n",
        "files.sort(key = lambda x: x[5:-4])\n",
        "for i in range(len(files)):\n",
        "    filename=pathIn + files[i]\n",
        "    #reading each files\n",
        "    img = cv2.imread(filename)\n",
        "    height, width, layers = img.shape\n",
        "    size = (width,height)\n",
        "    \n",
        "    #inserting the frames into an image array\n",
        "    frame_array.append(img)\n",
        "out = cv2.VideoWriter(pathOut,cv2.VideoWriter_fourcc(*'DIVX'), fps, size)\n",
        "for i in range(len(frame_array)):\n",
        "    # writing to a image array\n",
        "    out.write(frame_array[i])\n",
        "out.release()"
      ],
      "execution_count": 0,
      "outputs": []
    },
    {
      "cell_type": "code",
      "metadata": {
        "id": "u1h6COAlBtiD",
        "colab_type": "code",
        "colab": {}
      },
      "source": [
        "import requests, json\n",
        "import urllib\n",
        "#api_key ='zrmi9d815dkozm5c9g8536sn9d8bbxcm'\n",
        "  \n",
        " \n",
        "#url ='https://apis.mapmyindia.com/advancedmaps/v1/zrmi9d815dkozm5c9g8536sn9d8bbxcm/distance_matrix/driving/90.33,23.44;90.78,23.46?rtype=1&region=bgd'\n",
        "url1 = 'http://apis.mapmyindia.com/advancedmaps/v1/zrmi9d815dkozm5c9g8536sn9d8bbxcm/route?start=28.111,77.111&destination=28.22,77.22&alternatives=true&with_advices=1'\n",
        "url2 = 'https://apis.mapmyindia.com/advancedmaps/v1/zrmi9d815dkozm5c9g8536sn9d8bbxcm/still_image_polyline?height=500&width=480&polyline=[[77.110999971628,28.110999536368],[77.091525793076,28.120864493862],[77.051153182983,28.113701252852],[77.042280435562,28.121148364097],[77.070894241333,28.241791270843],[77.206506729126,28.204554687803],[77.219999581575,28.219999425573]]'\n",
        "\n",
        "import json\n",
        "import requests\n",
        "\n",
        "#r = requests.get(url1)\n",
        "#x = r.json()\n",
        "#x = jsonD.json()\n",
        "#print(x)\n",
        "import urllib.request\n",
        "from PIL import Image\n",
        "image = Image.open(urllib.request.urlopen(url2))\n",
        "image.save('new.jpg')\n",
        "width, height = image.size"
      ],
      "execution_count": 0,
      "outputs": []
    },
    {
      "cell_type": "code",
      "metadata": {
        "id": "3pTHjYpPofte",
        "colab_type": "code",
        "colab": {}
      },
      "source": [
        "!rm *.jpg"
      ],
      "execution_count": 0,
      "outputs": []
    }
  ]
}