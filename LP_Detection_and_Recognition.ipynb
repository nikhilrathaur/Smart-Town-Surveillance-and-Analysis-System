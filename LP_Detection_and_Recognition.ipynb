{
  "nbformat": 4,
  "nbformat_minor": 0,
  "metadata": {
    "colab": {
      "name": "Open ALPR.ipynb",
      "provenance": [],
      "collapsed_sections": []
    },
    "kernelspec": {
      "name": "python3",
      "display_name": "Python 3"
    },
    "accelerator": "GPU"
  },
  "cells": [
    {
      "cell_type": "code",
      "metadata": {
        "id": "RwNFihSYYN2D",
        "colab_type": "code",
        "outputId": "8b547158-9263-4556-9f6e-a8073d2aba67",
        "colab": {
          "base_uri": "https://localhost:8080/",
          "height": 51
        }
      },
      "source": [
        "import requests\n",
        "import base64\n",
        "import json\n",
        "from datetime import date\n",
        "#from google.colab.patches import cv2_imshow\n",
        "\n",
        "\n",
        "def ocr(IMAGE_PATH):\n",
        "  SECRET_KEY = 'sk_50fc944a28c88fc0b988abde'\n",
        "  with open(IMAGE_PATH, 'rb') as image_file:\n",
        "    img_base64 = base64.b64encode(image_file.read())\n",
        " \n",
        "  url = 'https://api.openalpr.com/v2/recognize_bytes?recognize_vehicle=1&country=ind&secret_key=%s' % (SECRET_KEY)\n",
        "  r = requests.post(url, data = img_base64)\n",
        "  try:\n",
        "    return(r.json()['results'][0]['plate'])\n",
        "  except:\n",
        "    print(\"aaaa\")\n",
        "\n",
        "if __name__=='__main__':\n",
        "  #cv2_imshow('/content/drive/My Drive/car1.jpg')\n",
        "  item = ocr('/content/drive/My Drive/car1.jpg')\n",
        "  print(item)\n",
        "  import pandas as pd\n",
        "data=[['MH20DV2366','02/11/2002','Subham Gupta',67.5,67.9,'image1.jpg'],['KL34A2670','21/9/2019','Nikhil Singh Rathore',62.3,72.3,'image2.jpg'],['AP11A3120','15/1/2007','Shubham',83.4,83.6,'image3.jpg']]\n",
        "df=pd.DataFrame(data,columns=['Number','Registry_Date','Name','Latitude','Longitide','Image'])\n",
        "check=0\n",
        "for i in df[\"Number\"]:\n",
        "  if(i==item):\n",
        "    check=1\n",
        "    break\n",
        "if(check == 1):\n",
        "  fd=df[df[\"Number\"]==item]#item is te number plate in string\n",
        "  fd.reset_index(inplace=True)\n",
        "  position=0\n",
        "  lab='Registry_Date'\n",
        "    \n",
        "  a=fd.loc[0].at[lab]\n",
        "  if((pd.datetime.now().year)-int(a[-4:])>14):\n",
        "    \n",
        "    print(\"!!!WARNING!!!!Vehicle is not permitted because of poisonous emission\")\n",
        "  else:\n",
        "    \n",
        "    print(\"Safe to enter if it follows ODD-EVEN rule\")\n",
        "  \n",
        "    item=int(item[-4:])\n",
        "    z=int(str(date.today())[-2:])\n",
        "    y=item%2\n",
        "    if((z%2)==y):\n",
        "      print(\"!!!PLEASE OPEN THE DOOR!!\")\n",
        "    else:\n",
        "      print(\"WARNING!!!CLIMATE IS OUR CONCERN\")\n",
        "\n",
        "  \n",
        "else:\n",
        "    print(\"!!WARNIGN UNAUTHORIZED VEHICLE IS NOT ALLOWED\")\n"
      ],
      "execution_count": 0,
      "outputs": [
        {
          "output_type": "stream",
          "text": [
            "MH20DV2366\n",
            "!!!WARNING!!!!Vehicle is not permitted because of poisonous emission\n"
          ],
          "name": "stdout"
        }
      ]
    },
    {
      "cell_type": "code",
      "metadata": {
        "id": "ur8wiM-cdDpr",
        "colab_type": "code",
        "colab": {}
      },
      "source": [
        "!python '/content/drive/My Drive/vehicle_counting_tensorflow-master/vehicle_detection_main.py'"
      ],
      "execution_count": 0,
      "outputs": []
    }
  ]
}